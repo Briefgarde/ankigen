{
 "cells": [
  {
   "cell_type": "code",
   "execution_count": 63,
   "metadata": {},
   "outputs": [],
   "source": [
    "from pptx import Presentation\n",
    "import os\n",
    "import sys\n",
    "import regex as re\n",
    "import genanki as anki\n",
    "import html\n",
    "import datetime\n",
    "import time"
   ]
  },
  {
   "cell_type": "code",
   "execution_count": 64,
   "metadata": {},
   "outputs": [],
   "source": [
    "def getPics():\n",
    "    current = os.listdir(os.getcwd())\n",
    "    try:\n",
    "        nameppt = [name for name in current if name.endswith(\".pptx\")][0][:-5]  # select the first folder with same name,                                                                    \n",
    "    except:\n",
    "        print(\"No folder found for the pictures\")\n",
    "\n",
    "    folderPath = os.path.join(os.getcwd(), nameppt)\n",
    "\n",
    "    image_extensions = ('.png', '.jpg', '.jpeg')\n",
    "    pics = [file for file in os.listdir(folderPath) if file.lower().endswith(image_extensions)]\n",
    "    # Make sure pics are still in order : \n",
    "    pics = sorted(pics, key=lambda x: int(re.search(r'\\d+', x).group()))\n",
    "\n",
    "    pics = [os.path.join(folderPath, file) for file in pics]# Make sure the elements are the absolute path to pics\n",
    "\n",
    "    return pics\n",
    "\n",
    "\n",
    "def getNotes():\n",
    "    notes = []\n",
    "\n",
    "    current = os.listdir(os.getcwd())\n",
    "    nameppt = [name for name in current if name.endswith(\".pptx\")][0] \n",
    "    pathToPrs = os.path.join(os.getcwd(), nameppt)\n",
    "\n",
    "    prs = Presentation(pathToPrs)\n",
    "    slides = prs.slides\n",
    "\n",
    "    for slide in slides:\n",
    "        if slide.has_notes_slide:\n",
    "            notes.append(slide.notes_slide.notes_text_frame.text)\n",
    "        else:\n",
    "            notes.append(\"\")\n",
    "    return notes"
   ]
  },
  {
   "cell_type": "code",
   "execution_count": 65,
   "metadata": {},
   "outputs": [],
   "source": [
    "notes = getNotes()\n",
    "pics = getPics()"
   ]
  },
  {
   "cell_type": "code",
   "execution_count": 66,
   "metadata": {},
   "outputs": [
    {
     "name": "stdout",
     "output_type": "stream",
     "text": [
      "['c:\\\\Users\\\\brief\\\\Desktop\\\\AnkiGenerator\\\\Debuter_recherche_2024-2026\\\\Slide1.PNG', 'c:\\\\Users\\\\brief\\\\Desktop\\\\AnkiGenerator\\\\Debuter_recherche_2024-2026\\\\Slide2.PNG', 'c:\\\\Users\\\\brief\\\\Desktop\\\\AnkiGenerator\\\\Debuter_recherche_2024-2026\\\\Slide3.PNG', 'c:\\\\Users\\\\brief\\\\Desktop\\\\AnkiGenerator\\\\Debuter_recherche_2024-2026\\\\Slide4.PNG', 'c:\\\\Users\\\\brief\\\\Desktop\\\\AnkiGenerator\\\\Debuter_recherche_2024-2026\\\\Slide5.PNG', 'c:\\\\Users\\\\brief\\\\Desktop\\\\AnkiGenerator\\\\Debuter_recherche_2024-2026\\\\Slide6.PNG', 'c:\\\\Users\\\\brief\\\\Desktop\\\\AnkiGenerator\\\\Debuter_recherche_2024-2026\\\\Slide7.PNG', 'c:\\\\Users\\\\brief\\\\Desktop\\\\AnkiGenerator\\\\Debuter_recherche_2024-2026\\\\Slide8.PNG', 'c:\\\\Users\\\\brief\\\\Desktop\\\\AnkiGenerator\\\\Debuter_recherche_2024-2026\\\\Slide9.PNG', 'c:\\\\Users\\\\brief\\\\Desktop\\\\AnkiGenerator\\\\Debuter_recherche_2024-2026\\\\Slide10.PNG', 'c:\\\\Users\\\\brief\\\\Desktop\\\\AnkiGenerator\\\\Debuter_recherche_2024-2026\\\\Slide11.PNG', 'c:\\\\Users\\\\brief\\\\Desktop\\\\AnkiGenerator\\\\Debuter_recherche_2024-2026\\\\Slide12.PNG', 'c:\\\\Users\\\\brief\\\\Desktop\\\\AnkiGenerator\\\\Debuter_recherche_2024-2026\\\\Slide13.PNG', 'c:\\\\Users\\\\brief\\\\Desktop\\\\AnkiGenerator\\\\Debuter_recherche_2024-2026\\\\Slide14.PNG', 'c:\\\\Users\\\\brief\\\\Desktop\\\\AnkiGenerator\\\\Debuter_recherche_2024-2026\\\\Slide15.PNG', 'c:\\\\Users\\\\brief\\\\Desktop\\\\AnkiGenerator\\\\Debuter_recherche_2024-2026\\\\Slide16.PNG', 'c:\\\\Users\\\\brief\\\\Desktop\\\\AnkiGenerator\\\\Debuter_recherche_2024-2026\\\\Slide17.PNG', 'c:\\\\Users\\\\brief\\\\Desktop\\\\AnkiGenerator\\\\Debuter_recherche_2024-2026\\\\Slide18.PNG', 'c:\\\\Users\\\\brief\\\\Desktop\\\\AnkiGenerator\\\\Debuter_recherche_2024-2026\\\\Slide19.PNG', 'c:\\\\Users\\\\brief\\\\Desktop\\\\AnkiGenerator\\\\Debuter_recherche_2024-2026\\\\Slide20.PNG', 'c:\\\\Users\\\\brief\\\\Desktop\\\\AnkiGenerator\\\\Debuter_recherche_2024-2026\\\\Slide21.PNG', 'c:\\\\Users\\\\brief\\\\Desktop\\\\AnkiGenerator\\\\Debuter_recherche_2024-2026\\\\Slide22.PNG', 'c:\\\\Users\\\\brief\\\\Desktop\\\\AnkiGenerator\\\\Debuter_recherche_2024-2026\\\\Slide23.PNG']\n"
     ]
    }
   ],
   "source": [
    "print(pics)"
   ]
  },
  {
   "cell_type": "code",
   "execution_count": 67,
   "metadata": {},
   "outputs": [
    {
     "name": "stdout",
     "output_type": "stream",
     "text": [
      "Elements length match\n",
      "Model generé\n",
      "Carte 0 générée Note(model=Model(model_id=1607392318, name='Model Leon', fields=[{'name': 'Count'}, {'name': 'Note'}, {'name': 'MyMedia'}], templates=[{'name': 'Card {{Count}}', 'qfmt': '{{MyMedia}}', 'afmt': '{{FrontSide}}<hr id=\"note\">{{Note}}'}], css='', model_type=0), fields=['0', 'Notesdawdaf wd wewe', '<img src=\"Slide1.PNG\">'], sort_field='0', tags=_TagList([]), guid='y*1Uf6%RXg')\n",
      "Carte 1 générée Note(model=Model(model_id=1607392318, name='Model Leon', fields=[{'name': 'Count'}, {'name': 'Note'}, {'name': 'MyMedia'}], templates=[{'name': 'Card {{Count}}', 'qfmt': '{{MyMedia}}', 'afmt': '{{FrontSide}}<hr id=\"note\">{{Note}}'}], css='', model_type=0), fields=['1', 'Note pages 2 that I added myself', '<img src=\"Slide2.PNG\">'], sort_field='1', tags=_TagList([]), guid='y)?!x+&~^c')\n",
      "Carte 2 générée Note(model=Model(model_id=1607392318, name='Model Leon', fields=[{'name': 'Count'}, {'name': 'Note'}, {'name': 'MyMedia'}], templates=[{'name': 'Card {{Count}}', 'qfmt': '{{MyMedia}}', 'afmt': '{{FrontSide}}<hr id=\"note\">{{Note}}'}], css='', model_type=0), fields=['2', 'This is one pages 3', '<img src=\"Slide3.PNG\">'], sort_field='2', tags=_TagList([]), guid='s$bR^p+b?W')\n",
      "Carte 3 générée Note(model=Model(model_id=1607392318, name='Model Leon', fields=[{'name': 'Count'}, {'name': 'Note'}, {'name': 'MyMedia'}], templates=[{'name': 'Card {{Count}}', 'qfmt': '{{MyMedia}}', 'afmt': '{{FrontSide}}<hr id=\"note\">{{Note}}'}], css='', model_type=0), fields=['3', '', '<img src=\"Slide4.PNG\">'], sort_field='3', tags=_TagList([]), guid='P:,XAjpxD,')\n",
      "Carte 4 générée Note(model=Model(model_id=1607392318, name='Model Leon', fields=[{'name': 'Count'}, {'name': 'Note'}, {'name': 'MyMedia'}], templates=[{'name': 'Card {{Count}}', 'qfmt': '{{MyMedia}}', 'afmt': '{{FrontSide}}<hr id=\"note\">{{Note}}'}], css='', model_type=0), fields=['4', 'There was nothing on page 4 and something on page 5', '<img src=\"Slide5.PNG\">'], sort_field='4', tags=_TagList([]), guid='c6;K[{gQ,')\n",
      "Carte 5 générée Note(model=Model(model_id=1607392318, name='Model Leon', fields=[{'name': 'Count'}, {'name': 'Note'}, {'name': 'MyMedia'}], templates=[{'name': 'Card {{Count}}', 'qfmt': '{{MyMedia}}', 'afmt': '{{FrontSide}}<hr id=\"note\">{{Note}}'}], css='', model_type=0), fields=['5', 'https://legacy.bib.uclouvain.be/infosphere/rechercher-linformation/le-plan-des-concepts\\n\\nwhat', '<img src=\"Slide6.PNG\">'], sort_field='5', tags=_TagList([]), guid='QNH<qWz?@~')\n",
      "Carte 6 générée Note(model=Model(model_id=1607392318, name='Model Leon', fields=[{'name': 'Count'}, {'name': 'Note'}, {'name': 'MyMedia'}], templates=[{'name': 'Card {{Count}}', 'qfmt': '{{MyMedia}}', 'afmt': '{{FrontSide}}<hr id=\"note\">{{Note}}'}], css='', model_type=0), fields=['6', '', '<img src=\"Slide7.PNG\">'], sort_field='6', tags=_TagList([]), guid='Ea38V1Z{V~')\n",
      "Carte 7 générée Note(model=Model(model_id=1607392318, name='Model Leon', fields=[{'name': 'Count'}, {'name': 'Note'}, {'name': 'MyMedia'}], templates=[{'name': 'Card {{Count}}', 'qfmt': '{{MyMedia}}', 'afmt': '{{FrontSide}}<hr id=\"note\">{{Note}}'}], css='', model_type=0), fields=['7', '', '<img src=\"Slide8.PNG\">'], sort_field='7', tags=_TagList([]), guid='e}Jw^QV0Om')\n",
      "Carte 8 générée Note(model=Model(model_id=1607392318, name='Model Leon', fields=[{'name': 'Count'}, {'name': 'Note'}, {'name': 'MyMedia'}], templates=[{'name': 'Card {{Count}}', 'qfmt': '{{MyMedia}}', 'afmt': '{{FrontSide}}<hr id=\"note\">{{Note}}'}], css='', model_type=0), fields=['8', '', '<img src=\"Slide9.PNG\">'], sort_field='8', tags=_TagList([]), guid='PrdCg!n7N-')\n",
      "Carte 9 générée Note(model=Model(model_id=1607392318, name='Model Leon', fields=[{'name': 'Count'}, {'name': 'Note'}, {'name': 'MyMedia'}], templates=[{'name': 'Card {{Count}}', 'qfmt': '{{MyMedia}}', 'afmt': '{{FrontSide}}<hr id=\"note\">{{Note}}'}], css='', model_type=0), fields=['9', '', '<img src=\"Slide10.PNG\">'], sort_field='9', tags=_TagList([]), guid='NDAfh6Ih-a')\n",
      "Carte 10 générée Note(model=Model(model_id=1607392318, name='Model Leon', fields=[{'name': 'Count'}, {'name': 'Note'}, {'name': 'MyMedia'}], templates=[{'name': 'Card {{Count}}', 'qfmt': '{{MyMedia}}', 'afmt': '{{FrontSide}}<hr id=\"note\">{{Note}}'}], css='', model_type=0), fields=['10', '', '<img src=\"Slide11.PNG\">'], sort_field='10', tags=_TagList([]), guid='H/}]F#L/KZ')\n",
      "Carte 11 générée Note(model=Model(model_id=1607392318, name='Model Leon', fields=[{'name': 'Count'}, {'name': 'Note'}, {'name': 'MyMedia'}], templates=[{'name': 'Card {{Count}}', 'qfmt': '{{MyMedia}}', 'afmt': '{{FrontSide}}<hr id=\"note\">{{Note}}'}], css='', model_type=0), fields=['11', '', '<img src=\"Slide12.PNG\">'], sort_field='11', tags=_TagList([]), guid='c%+xQ6oFT.')\n",
      "Carte 12 générée Note(model=Model(model_id=1607392318, name='Model Leon', fields=[{'name': 'Count'}, {'name': 'Note'}, {'name': 'MyMedia'}], templates=[{'name': 'Card {{Count}}', 'qfmt': '{{MyMedia}}', 'afmt': '{{FrontSide}}<hr id=\"note\">{{Note}}'}], css='', model_type=0), fields=['12', '', '<img src=\"Slide13.PNG\">'], sort_field='12', tags=_TagList([]), guid='Cj=;Ype^>#')\n",
      "Carte 13 générée Note(model=Model(model_id=1607392318, name='Model Leon', fields=[{'name': 'Count'}, {'name': 'Note'}, {'name': 'MyMedia'}], templates=[{'name': 'Card {{Count}}', 'qfmt': '{{MyMedia}}', 'afmt': '{{FrontSide}}<hr id=\"note\">{{Note}}'}], css='', model_type=0), fields=['13', '', '<img src=\"Slide14.PNG\">'], sort_field='13', tags=_TagList([]), guid='ba]Hj=*/Fu')\n",
      "Carte 14 générée Note(model=Model(model_id=1607392318, name='Model Leon', fields=[{'name': 'Count'}, {'name': 'Note'}, {'name': 'MyMedia'}], templates=[{'name': 'Card {{Count}}', 'qfmt': '{{MyMedia}}', 'afmt': '{{FrontSide}}<hr id=\"note\">{{Note}}'}], css='', model_type=0), fields=['14', '', '<img src=\"Slide15.PNG\">'], sort_field='14', tags=_TagList([]), guid='w{tTb,3Vz:')\n",
      "Carte 15 générée Note(model=Model(model_id=1607392318, name='Model Leon', fields=[{'name': 'Count'}, {'name': 'Note'}, {'name': 'MyMedia'}], templates=[{'name': 'Card {{Count}}', 'qfmt': '{{MyMedia}}', 'afmt': '{{FrontSide}}<hr id=\"note\">{{Note}}'}], css='', model_type=0), fields=['15', '', '<img src=\"Slide16.PNG\">'], sort_field='15', tags=_TagList([]), guid='v;xG?9AfCF')\n",
      "Carte 16 générée Note(model=Model(model_id=1607392318, name='Model Leon', fields=[{'name': 'Count'}, {'name': 'Note'}, {'name': 'MyMedia'}], templates=[{'name': 'Card {{Count}}', 'qfmt': '{{MyMedia}}', 'afmt': '{{FrontSide}}<hr id=\"note\">{{Note}}'}], css='', model_type=0), fields=['16', '', '<img src=\"Slide17.PNG\">'], sort_field='16', tags=_TagList([]), guid='g#d=I[!=m]')\n",
      "Carte 17 générée Note(model=Model(model_id=1607392318, name='Model Leon', fields=[{'name': 'Count'}, {'name': 'Note'}, {'name': 'MyMedia'}], templates=[{'name': 'Card {{Count}}', 'qfmt': '{{MyMedia}}', 'afmt': '{{FrontSide}}<hr id=\"note\">{{Note}}'}], css='', model_type=0), fields=['17', '', '<img src=\"Slide18.PNG\">'], sort_field='17', tags=_TagList([]), guid='JA~?PFN#*5')\n",
      "Carte 18 générée Note(model=Model(model_id=1607392318, name='Model Leon', fields=[{'name': 'Count'}, {'name': 'Note'}, {'name': 'MyMedia'}], templates=[{'name': 'Card {{Count}}', 'qfmt': '{{MyMedia}}', 'afmt': '{{FrontSide}}<hr id=\"note\">{{Note}}'}], css='', model_type=0), fields=['18', '', '<img src=\"Slide19.PNG\">'], sort_field='18', tags=_TagList([]), guid='wj-8c/t3[@')\n",
      "Carte 19 générée Note(model=Model(model_id=1607392318, name='Model Leon', fields=[{'name': 'Count'}, {'name': 'Note'}, {'name': 'MyMedia'}], templates=[{'name': 'Card {{Count}}', 'qfmt': '{{MyMedia}}', 'afmt': '{{FrontSide}}<hr id=\"note\">{{Note}}'}], css='', model_type=0), fields=['19', '', '<img src=\"Slide20.PNG\">'], sort_field='19', tags=_TagList([]), guid='Nq~@Ur/oRj')\n",
      "Carte 20 générée Note(model=Model(model_id=1607392318, name='Model Leon', fields=[{'name': 'Count'}, {'name': 'Note'}, {'name': 'MyMedia'}], templates=[{'name': 'Card {{Count}}', 'qfmt': '{{MyMedia}}', 'afmt': '{{FrontSide}}<hr id=\"note\">{{Note}}'}], css='', model_type=0), fields=['20', '', '<img src=\"Slide21.PNG\">'], sort_field='20', tags=_TagList([]), guid='O$dt9o1p;9')\n",
      "Carte 21 générée Note(model=Model(model_id=1607392318, name='Model Leon', fields=[{'name': 'Count'}, {'name': 'Note'}, {'name': 'MyMedia'}], templates=[{'name': 'Card {{Count}}', 'qfmt': '{{MyMedia}}', 'afmt': '{{FrontSide}}<hr id=\"note\">{{Note}}'}], css='', model_type=0), fields=['21', '', '<img src=\"Slide22.PNG\">'], sort_field='21', tags=_TagList([]), guid='bXdE0YM7AR')\n",
      "Carte 22 générée Note(model=Model(model_id=1607392318, name='Model Leon', fields=[{'name': 'Count'}, {'name': 'Note'}, {'name': 'MyMedia'}], templates=[{'name': 'Card {{Count}}', 'qfmt': '{{MyMedia}}', 'afmt': '{{FrontSide}}<hr id=\"note\">{{Note}}'}], css='', model_type=0), fields=['22', '', '<img src=\"Slide23.PNG\">'], sort_field='22', tags=_TagList([]), guid='Nu.8*UK=r2')\n",
      "Deck généré\n",
      "Package généré\n",
      "Pics given to medial file\n",
      "Deck crée\n"
     ]
    }
   ],
   "source": [
    "if len(notes) != len(pics):\n",
    "    raise Exception(\"Elements length do not match\")\n",
    "print(\"Elements length match\")\n",
    "\n",
    "for file in os.listdir(os.getcwd()):\n",
    "    if file.endswith(\".apkg\"):\n",
    "        os.remove(file)\n",
    "\n",
    "\n",
    "my_model = anki.Model(\n",
    "    1607392318,\n",
    "    'Model Leon',\n",
    "    fields=[\n",
    "        {'name': 'Count'},\n",
    "        {'name': 'Note'},\n",
    "        {'name': 'MyMedia'},                                 \n",
    "    ],\n",
    "    templates=[\n",
    "        {\n",
    "            'name': 'Card {{Count}}',\n",
    "            'qfmt': '{{MyMedia}}',             \n",
    "            'afmt': '{{FrontSide}}<hr id=\"note\">{{Note}}',\n",
    "            },\n",
    "        ])\n",
    "print(\"Model generé\")\n",
    "\n",
    "deck = anki.Deck(\n",
    "        1777167684, \n",
    "        'Cartes Leon'\n",
    ")\n",
    "\n",
    "# cartes = []\n",
    "for i in range(len(notes)):\n",
    "    picname = os.path.basename(pics[i])\n",
    "    media_name = f'<img src=\"{picname}\">'\n",
    "    carte = anki.Note(\n",
    "            model=my_model,\n",
    "            fields=[f\"{i}\", notes[i], media_name] \n",
    "    )\n",
    "    print(f\"Carte {i} générée {carte}\")\n",
    "    deck.add_note(carte)\n",
    "print(\"Deck généré\")\n",
    "\n",
    "package = anki.Package(deck)\n",
    "print(\"Package généré\")\n",
    "\n",
    "package.media_files = pics\n",
    "print(\"Pics given to medial file\")\n",
    "\n",
    "package.write_to_file(f\"output.apkg\")\n",
    "print(\"Deck crée\")"
   ]
  }
 ],
 "metadata": {
  "kernelspec": {
   "display_name": "ankigen",
   "language": "python",
   "name": "python3"
  },
  "language_info": {
   "codemirror_mode": {
    "name": "ipython",
    "version": 3
   },
   "file_extension": ".py",
   "mimetype": "text/x-python",
   "name": "python",
   "nbconvert_exporter": "python",
   "pygments_lexer": "ipython3",
   "version": "3.13.2"
  }
 },
 "nbformat": 4,
 "nbformat_minor": 2
}
